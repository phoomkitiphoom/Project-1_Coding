{
  "nbformat": 4,
  "nbformat_minor": 0,
  "metadata": {
    "colab": {
      "provenance": [],
      "toc_visible": true,
      "include_colab_link": true
    },
    "kernelspec": {
      "name": "python3",
      "display_name": "Python 3"
    },
    "language_info": {
      "name": "python"
    }
  },
  "cells": [
    {
      "cell_type": "markdown",
      "metadata": {
        "id": "view-in-github",
        "colab_type": "text"
      },
      "source": [
        "<a href=\"https://colab.research.google.com/github/phoomkitiphoom/Project-1_Coding/blob/main/04_phoom_ipynbd.ipynb\" target=\"_parent\"><img src=\"https://colab.research.google.com/assets/colab-badge.svg\" alt=\"Open In Colab\"/></a>"
      ]
    },
    {
      "cell_type": "markdown",
      "source": [
        "เลขที่4 ภูมิ กิติภูมิ มณีวงศ์\n",
        "No.4 Phoom Kitiphoom Maneewong"
      ],
      "metadata": {
        "id": "nxlWHyDjdBXg"
      }
    },
    {
      "cell_type": "markdown",
      "source": [
        "20 พฤษภาคม 2567\n",
        "\n",
        "\n",
        "\n",
        "*   ได้เรียนรู้คำสั่ง print\n",
        "\n",
        "\n"
      ],
      "metadata": {
        "id": "LwcmPQH0CCLD"
      }
    },
    {
      "cell_type": "code",
      "source": [
        "print('4/4')"
      ],
      "metadata": {
        "colab": {
          "base_uri": "https://localhost:8080/"
        },
        "id": "RQS3oel9B7zc",
        "outputId": "f6b836b9-41fd-4e21-fecb-91a90afa4857"
      },
      "execution_count": null,
      "outputs": [
        {
          "output_type": "stream",
          "name": "stdout",
          "text": [
            "4/4\n"
          ]
        }
      ]
    },
    {
      "cell_type": "code",
      "source": [
        "print('Hello my name is Phoom')"
      ],
      "metadata": {
        "colab": {
          "base_uri": "https://localhost:8080/"
        },
        "id": "8L19Vm99DY87",
        "outputId": "6f531b65-68d0-4f99-ab4a-2dfa21c07049"
      },
      "execution_count": null,
      "outputs": [
        {
          "output_type": "stream",
          "name": "stdout",
          "text": [
            "Hello my name is Phoom\n"
          ]
        }
      ]
    },
    {
      "cell_type": "markdown",
      "source": [],
      "metadata": {
        "id": "9iitcJxxCBBT"
      }
    },
    {
      "cell_type": "code",
      "source": [
        "print(\"Merry X'mas\")"
      ],
      "metadata": {
        "colab": {
          "base_uri": "https://localhost:8080/"
        },
        "id": "CBhqo29VGD_d",
        "outputId": "e6193e65-308c-4442-9126-f8e8360a7090"
      },
      "execution_count": null,
      "outputs": [
        {
          "output_type": "stream",
          "name": "stdout",
          "text": [
            "Merry X'mas\n"
          ]
        }
      ]
    },
    {
      "cell_type": "markdown",
      "source": [
        "1/07/67"
      ],
      "metadata": {
        "id": "c5Fm9KNUQF_M"
      }
    },
    {
      "cell_type": "code",
      "source": [
        "long=int(input(\"ความกว้าง(ซม.)คือ\"))\n",
        "lenght=int(input(\"ความยาว(ซม.)คือ\"))\n",
        "area=long*lenght\n",
        "print(\"พื้นที่สี่เหลี่ยมผืนผ้า เท่ากับ \",area,\"ตร.ซม\")"
      ],
      "metadata": {
        "colab": {
          "base_uri": "https://localhost:8080/"
        },
        "id": "v6cCw8Y1RnAW",
        "outputId": "bdcb61ca-1839-4640-a04e-653750266ddd"
      },
      "execution_count": null,
      "outputs": [
        {
          "output_type": "stream",
          "name": "stdout",
          "text": [
            "ความกว้าง(ซม.)คือ10\n",
            "ความยาว(ซม.)คือ4\n",
            "พื้นที่สี่เหลี่ยมผืนผ้า เท่ากับ  40 ตร.ซม\n"
          ]
        }
      ]
    },
    {
      "cell_type": "code",
      "source": [
        "s=int(input(\"ระยะทางที่ผ่านมาในกิโลเมตร\"))\n",
        "t="
      ],
      "metadata": {
        "id": "smV_hGaLX2gL"
      },
      "execution_count": null,
      "outputs": []
    }
  ]
}